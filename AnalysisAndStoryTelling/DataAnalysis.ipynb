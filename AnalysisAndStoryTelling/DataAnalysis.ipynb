{
 "cells": [
  {
   "cell_type": "code",
   "execution_count": 1,
   "metadata": {
    "collapsed": true
   },
   "outputs": [],
   "source": [
    "import os\n",
    "import pickle"
   ]
  },
  {
   "cell_type": "code",
   "execution_count": 2,
   "metadata": {
    "collapsed": true
   },
   "outputs": [],
   "source": [
    "with open('../Data/Crisis_data_cleaned.txt', 'rb') as f:\n",
    "    results = pickle.load(f)"
   ]
  },
  {
   "cell_type": "code",
   "execution_count": 3,
   "metadata": {
    "collapsed": true
   },
   "outputs": [],
   "source": [
    "import pandas as pd"
   ]
  },
  {
   "cell_type": "code",
   "execution_count": 4,
   "metadata": {},
   "outputs": [
    {
     "name": "stdout",
     "output_type": "stream",
     "text": [
      "<class 'pandas.core.frame.DataFrame'>\n",
      "RangeIndex: 40714 entries, 0 to 40713\n",
      "Data columns (total 24 columns):\n",
      "beat                           40714 non-null object\n",
      "call_type                      40714 non-null object\n",
      "cit_certified_indicator        40714 non-null object\n",
      "cit_officer_arrived            40714 non-null object\n",
      "cit_officer_dispatched         40714 non-null object\n",
      "cit_officer_requested          40714 non-null object\n",
      "disposition                    40714 non-null object\n",
      "final_call_type                40714 non-null object\n",
      "initial_call_type              40714 non-null object\n",
      "occured_date_time              40714 non-null datetime64[ns]\n",
      "officer_bureau_desc            40714 non-null object\n",
      "officer_gender                 40714 non-null object\n",
      "officer_id                     40714 non-null int64\n",
      "officer_precinct_desc          40714 non-null object\n",
      "officer_race                   40714 non-null object\n",
      "officer_squad_desc             40714 non-null object\n",
      "officer_year_of_birth          40714 non-null int64\n",
      "officer_years_of_experience    40714 non-null float64\n",
      "precinct                       40714 non-null object\n",
      "sector                         40714 non-null object\n",
      "subject_veteran_indicator      40714 non-null object\n",
      "template_id                    40714 non-null int64\n",
      "use_of_force_indicator         40714 non-null object\n",
      "reported_date_time             40714 non-null datetime64[ns]\n",
      "dtypes: datetime64[ns](2), float64(1), int64(3), object(18)\n",
      "memory usage: 7.5+ MB\n"
     ]
    }
   ],
   "source": [
    "df = pd.DataFrame.from_records(results)\n",
    "df.info()"
   ]
  },
  {
   "cell_type": "code",
   "execution_count": null,
   "metadata": {
    "collapsed": true
   },
   "outputs": [],
   "source": []
  },
  {
   "cell_type": "code",
   "execution_count": null,
   "metadata": {
    "collapsed": true
   },
   "outputs": [],
   "source": []
  },
  {
   "cell_type": "code",
   "execution_count": null,
   "metadata": {
    "collapsed": true
   },
   "outputs": [],
   "source": []
  }
 ],
 "metadata": {
  "kernelspec": {
   "display_name": "Python 3",
   "language": "python",
   "name": "python3"
  },
  "language_info": {
   "codemirror_mode": {
    "name": "ipython",
    "version": 3
   },
   "file_extension": ".py",
   "mimetype": "text/x-python",
   "name": "python",
   "nbconvert_exporter": "python",
   "pygments_lexer": "ipython3",
   "version": "3.6.3"
  }
 },
 "nbformat": 4,
 "nbformat_minor": 2
}
