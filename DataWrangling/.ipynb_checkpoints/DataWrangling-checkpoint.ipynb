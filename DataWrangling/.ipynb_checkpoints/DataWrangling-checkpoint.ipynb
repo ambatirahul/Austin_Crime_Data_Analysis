{
 "cells": [
  {
   "cell_type": "code",
   "execution_count": 1,
   "metadata": {
    "collapsed": true
   },
   "outputs": [],
   "source": [
    "import os\n",
    "import pickle\n",
    "import pandas as pd"
   ]
  },
  {
   "cell_type": "code",
   "execution_count": 2,
   "metadata": {
    "collapsed": true
   },
   "outputs": [],
   "source": [
    "with open('../Data/Crisis_data.txt', 'rb') as fpr:\n",
    "    results = pickle.load(fpr)"
   ]
  },
  {
   "cell_type": "code",
   "execution_count": 3,
   "metadata": {},
   "outputs": [
    {
     "name": "stdout",
     "output_type": "stream",
     "text": [
      "<class 'pandas.core.frame.DataFrame'>\n",
      "RangeIndex: 42477 entries, 0 to 42476\n",
      "Data columns (total 25 columns):\n",
      "beat                           41914 non-null object\n",
      "call_type                      41914 non-null object\n",
      "cit_certified_indicator        17758 non-null object\n",
      "cit_officer_arrived            42477 non-null object\n",
      "cit_officer_dispatched         42477 non-null object\n",
      "cit_officer_requested          42477 non-null object\n",
      "disposition                    41172 non-null object\n",
      "final_call_type                41914 non-null object\n",
      "initial_call_type              41914 non-null object\n",
      "occured_date_time              41914 non-null object\n",
      "officer_bureau_desc            42173 non-null object\n",
      "officer_gender                 42477 non-null object\n",
      "officer_id                     42477 non-null object\n",
      "officer_precinct_desc          41233 non-null object\n",
      "officer_race                   42477 non-null object\n",
      "officer_squad_desc             42180 non-null object\n",
      "officer_year_of_birth          42365 non-null object\n",
      "officer_years_of_experience    39562 non-null object\n",
      "precinct                       41914 non-null object\n",
      "reported_date                  42477 non-null object\n",
      "reported_time                  42477 non-null object\n",
      "sector                         41875 non-null object\n",
      "subject_veteran_indicator      42477 non-null object\n",
      "template_id                    42477 non-null object\n",
      "use_of_force_indicator         42477 non-null object\n",
      "dtypes: object(25)\n",
      "memory usage: 8.1+ MB\n"
     ]
    }
   ],
   "source": [
    "results_df = pd.DataFrame.from_records(results)\n",
    "results_df.info()"
   ]
  },
  {
   "cell_type": "code",
   "execution_count": null,
   "metadata": {
    "collapsed": true
   },
   "outputs": [],
   "source": []
  }
 ],
 "metadata": {
  "kernelspec": {
   "display_name": "Python 3",
   "language": "python",
   "name": "python3"
  },
  "language_info": {
   "codemirror_mode": {
    "name": "ipython",
    "version": 3
   },
   "file_extension": ".py",
   "mimetype": "text/x-python",
   "name": "python",
   "nbconvert_exporter": "python",
   "pygments_lexer": "ipython3",
   "version": "3.6.3"
  }
 },
 "nbformat": 4,
 "nbformat_minor": 2
}
