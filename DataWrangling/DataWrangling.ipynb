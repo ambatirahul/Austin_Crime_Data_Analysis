{
 "cells": [
  {
   "cell_type": "markdown",
   "metadata": {
    "collapsed": true
   },
   "source": [
    "# Data cleaning"
   ]
  },
  {
   "cell_type": "code",
   "execution_count": 1,
   "metadata": {
    "collapsed": true
   },
   "outputs": [],
   "source": [
    "import os\n",
    "import pickle\n",
    "import pandas as pd"
   ]
  },
  {
   "cell_type": "code",
   "execution_count": 2,
   "metadata": {
    "collapsed": true
   },
   "outputs": [],
   "source": [
    "with open('../Data/Crisis_data.txt', 'rb') as fpr:\n",
    "    results = pickle.load(fpr)"
   ]
  },
  {
   "cell_type": "code",
   "execution_count": 3,
   "metadata": {
    "collapsed": true
   },
   "outputs": [],
   "source": [
    "def printstars(count):\n",
    "    print(count*\"*\")"
   ]
  },
  {
   "cell_type": "code",
   "execution_count": 4,
   "metadata": {
    "scrolled": false
   },
   "outputs": [
    {
     "name": "stdout",
     "output_type": "stream",
     "text": [
      "<class 'pandas.core.frame.DataFrame'>\n",
      "RangeIndex: 42543 entries, 0 to 42542\n",
      "Data columns (total 25 columns):\n",
      "beat                           41980 non-null object\n",
      "call_type                      41980 non-null object\n",
      "cit_certified_indicator        17802 non-null object\n",
      "cit_officer_arrived            42543 non-null object\n",
      "cit_officer_dispatched         42543 non-null object\n",
      "cit_officer_requested          42543 non-null object\n",
      "disposition                    41233 non-null object\n",
      "final_call_type                41980 non-null object\n",
      "initial_call_type              41980 non-null object\n",
      "occured_date_time              41980 non-null object\n",
      "officer_bureau_desc            42239 non-null object\n",
      "officer_gender                 42543 non-null object\n",
      "officer_id                     42543 non-null object\n",
      "officer_precinct_desc          41299 non-null object\n",
      "officer_race                   42543 non-null object\n",
      "officer_squad_desc             42246 non-null object\n",
      "officer_year_of_birth          42431 non-null object\n",
      "officer_years_of_experience    39627 non-null object\n",
      "precinct                       41980 non-null object\n",
      "reported_date                  42543 non-null object\n",
      "reported_time                  42543 non-null object\n",
      "sector                         41941 non-null object\n",
      "subject_veteran_indicator      42543 non-null object\n",
      "template_id                    42543 non-null object\n",
      "use_of_force_indicator         42543 non-null object\n",
      "dtypes: object(25)\n",
      "memory usage: 8.1+ MB\n"
     ]
    }
   ],
   "source": [
    "results_df = pd.DataFrame.from_records(results)\n",
    "results_df.info()"
   ]
  },
  {
   "cell_type": "markdown",
   "metadata": {},
   "source": [
    "We see different number of entries for each column.\n",
    "\n",
    "Need to remove data which is not vaiable and clean the data accordingly."
   ]
  },
  {
   "cell_type": "code",
   "execution_count": 5,
   "metadata": {},
   "outputs": [
    {
     "data": {
      "text/plain": [
       "False"
      ]
     },
     "execution_count": 5,
     "metadata": {},
     "output_type": "execute_result"
    }
   ],
   "source": [
    "results_df.isnull().values.all()"
   ]
  },
  {
   "cell_type": "markdown",
   "metadata": {},
   "source": [
    "We have no null values, need to explore whether the bad is in what kind or type of format.\n",
    "\n",
    "## Let's clean the data if needed."
   ]
  },
  {
   "cell_type": "code",
   "execution_count": 6,
   "metadata": {},
   "outputs": [
    {
     "data": {
      "text/html": [
       "<div>\n",
       "<style>\n",
       "    .dataframe thead tr:only-child th {\n",
       "        text-align: right;\n",
       "    }\n",
       "\n",
       "    .dataframe thead th {\n",
       "        text-align: left;\n",
       "    }\n",
       "\n",
       "    .dataframe tbody tr th {\n",
       "        vertical-align: top;\n",
       "    }\n",
       "</style>\n",
       "<table border=\"1\" class=\"dataframe\">\n",
       "  <thead>\n",
       "    <tr style=\"text-align: right;\">\n",
       "      <th></th>\n",
       "      <th>beat</th>\n",
       "      <th>call_type</th>\n",
       "      <th>cit_certified_indicator</th>\n",
       "      <th>cit_officer_arrived</th>\n",
       "      <th>cit_officer_dispatched</th>\n",
       "      <th>cit_officer_requested</th>\n",
       "      <th>disposition</th>\n",
       "      <th>final_call_type</th>\n",
       "      <th>initial_call_type</th>\n",
       "      <th>occured_date_time</th>\n",
       "      <th>...</th>\n",
       "      <th>officer_squad_desc</th>\n",
       "      <th>officer_year_of_birth</th>\n",
       "      <th>officer_years_of_experience</th>\n",
       "      <th>precinct</th>\n",
       "      <th>reported_date</th>\n",
       "      <th>reported_time</th>\n",
       "      <th>sector</th>\n",
       "      <th>subject_veteran_indicator</th>\n",
       "      <th>template_id</th>\n",
       "      <th>use_of_force_indicator</th>\n",
       "    </tr>\n",
       "  </thead>\n",
       "  <tbody>\n",
       "    <tr>\n",
       "      <th>0</th>\n",
       "      <td>U3</td>\n",
       "      <td>TELEPHONE OTHER, NOT 911</td>\n",
       "      <td>NaN</td>\n",
       "      <td>N</td>\n",
       "      <td>N</td>\n",
       "      <td>N</td>\n",
       "      <td>Resources Declined</td>\n",
       "      <td>--SUSPICIOUS CIRCUM. - SUSPICIOUS PERSON</td>\n",
       "      <td>SUSPICIOUS PERSON, VEHICLE OR INCIDENT</td>\n",
       "      <td>2016-01-04T17:59:27.000</td>\n",
       "      <td>...</td>\n",
       "      <td>SOUTH PCT 3RD W - OCEAN</td>\n",
       "      <td>1982</td>\n",
       "      <td>8</td>\n",
       "      <td>NORTH</td>\n",
       "      <td>2016-09-09</td>\n",
       "      <td>22:34:00</td>\n",
       "      <td>UNION</td>\n",
       "      <td>Yes</td>\n",
       "      <td>193069</td>\n",
       "      <td>N</td>\n",
       "    </tr>\n",
       "    <tr>\n",
       "      <th>1</th>\n",
       "      <td>M1</td>\n",
       "      <td>ONVIEW</td>\n",
       "      <td>Y</td>\n",
       "      <td>Y</td>\n",
       "      <td>Y</td>\n",
       "      <td>N</td>\n",
       "      <td>Emergent Detention/ITA</td>\n",
       "      <td>--CRISIS COMPLAINT - GENERAL</td>\n",
       "      <td>PERSON IN BEHAVIORAL/EMOTIONAL CRISIS</td>\n",
       "      <td>2017-12-12T20:04:09.000</td>\n",
       "      <td>...</td>\n",
       "      <td>WEST PCT 3RD W - MARY</td>\n",
       "      <td>1989</td>\n",
       "      <td>4</td>\n",
       "      <td>WEST</td>\n",
       "      <td>2017-12-12</td>\n",
       "      <td>21:51:00</td>\n",
       "      <td>MARY</td>\n",
       "      <td>Unknown</td>\n",
       "      <td>356577</td>\n",
       "      <td>N</td>\n",
       "    </tr>\n",
       "    <tr>\n",
       "      <th>2</th>\n",
       "      <td>K2</td>\n",
       "      <td>911</td>\n",
       "      <td>Y</td>\n",
       "      <td>Y</td>\n",
       "      <td>Y</td>\n",
       "      <td>N</td>\n",
       "      <td>Emergent Detention/ITA</td>\n",
       "      <td>--CRISIS COMPLAINT - GENERAL</td>\n",
       "      <td>SUICIDE - IP/JO SUICIDAL PERSON AND ATTEMPTS</td>\n",
       "      <td>2017-12-12T22:36:11.000</td>\n",
       "      <td>...</td>\n",
       "      <td>WEST PCT 3RD W - KING</td>\n",
       "      <td>1982</td>\n",
       "      <td>4</td>\n",
       "      <td>WEST</td>\n",
       "      <td>2017-12-12</td>\n",
       "      <td>23:14:00</td>\n",
       "      <td>KING</td>\n",
       "      <td>Unknown</td>\n",
       "      <td>356580</td>\n",
       "      <td>N</td>\n",
       "    </tr>\n",
       "    <tr>\n",
       "      <th>3</th>\n",
       "      <td>C1</td>\n",
       "      <td>TELEPHONE OTHER, NOT 911</td>\n",
       "      <td>NaN</td>\n",
       "      <td>Y</td>\n",
       "      <td>N</td>\n",
       "      <td>N</td>\n",
       "      <td>Subject Arrested</td>\n",
       "      <td>--DV - DOMESTIC VIOL/ASLT (ARREST MANDATORY)</td>\n",
       "      <td>SUICIDE - IP/JO SUICIDAL PERSON AND ATTEMPTS</td>\n",
       "      <td>2017-12-13T16:17:18.000</td>\n",
       "      <td>...</td>\n",
       "      <td>EAST PCT 2ND W - CHARLIE</td>\n",
       "      <td>1972</td>\n",
       "      <td>17</td>\n",
       "      <td>EAST</td>\n",
       "      <td>2017-12-13</td>\n",
       "      <td>18:28:00</td>\n",
       "      <td>CHARLIE</td>\n",
       "      <td>No</td>\n",
       "      <td>356757</td>\n",
       "      <td>N</td>\n",
       "    </tr>\n",
       "    <tr>\n",
       "      <th>4</th>\n",
       "      <td>D1</td>\n",
       "      <td>ONVIEW</td>\n",
       "      <td>NaN</td>\n",
       "      <td>Y</td>\n",
       "      <td>N</td>\n",
       "      <td>N</td>\n",
       "      <td>Subject Arrested</td>\n",
       "      <td>--NARCOTICS - OTHER</td>\n",
       "      <td>HAZ - POTENTIAL THRT TO PHYS SAFETY (NO HAZMAT)</td>\n",
       "      <td>2017-12-13T12:24:23.000</td>\n",
       "      <td>...</td>\n",
       "      <td>WEST PCT 2ND W - D/M RELIEF</td>\n",
       "      <td>1985</td>\n",
       "      <td>8</td>\n",
       "      <td>WEST</td>\n",
       "      <td>2017-12-13</td>\n",
       "      <td>13:42:00</td>\n",
       "      <td>DAVID</td>\n",
       "      <td>No</td>\n",
       "      <td>356716</td>\n",
       "      <td>N</td>\n",
       "    </tr>\n",
       "  </tbody>\n",
       "</table>\n",
       "<p>5 rows × 25 columns</p>\n",
       "</div>"
      ],
      "text/plain": [
       "  beat                 call_type cit_certified_indicator cit_officer_arrived  \\\n",
       "0   U3  TELEPHONE OTHER, NOT 911                     NaN                   N   \n",
       "1   M1                    ONVIEW                       Y                   Y   \n",
       "2   K2                       911                       Y                   Y   \n",
       "3   C1  TELEPHONE OTHER, NOT 911                     NaN                   Y   \n",
       "4   D1                    ONVIEW                     NaN                   Y   \n",
       "\n",
       "  cit_officer_dispatched cit_officer_requested             disposition  \\\n",
       "0                      N                     N      Resources Declined   \n",
       "1                      Y                     N  Emergent Detention/ITA   \n",
       "2                      Y                     N  Emergent Detention/ITA   \n",
       "3                      N                     N        Subject Arrested   \n",
       "4                      N                     N        Subject Arrested   \n",
       "\n",
       "                                final_call_type  \\\n",
       "0      --SUSPICIOUS CIRCUM. - SUSPICIOUS PERSON   \n",
       "1                  --CRISIS COMPLAINT - GENERAL   \n",
       "2                  --CRISIS COMPLAINT - GENERAL   \n",
       "3  --DV - DOMESTIC VIOL/ASLT (ARREST MANDATORY)   \n",
       "4                           --NARCOTICS - OTHER   \n",
       "\n",
       "                                 initial_call_type        occured_date_time  \\\n",
       "0           SUSPICIOUS PERSON, VEHICLE OR INCIDENT  2016-01-04T17:59:27.000   \n",
       "1            PERSON IN BEHAVIORAL/EMOTIONAL CRISIS  2017-12-12T20:04:09.000   \n",
       "2     SUICIDE - IP/JO SUICIDAL PERSON AND ATTEMPTS  2017-12-12T22:36:11.000   \n",
       "3     SUICIDE - IP/JO SUICIDAL PERSON AND ATTEMPTS  2017-12-13T16:17:18.000   \n",
       "4  HAZ - POTENTIAL THRT TO PHYS SAFETY (NO HAZMAT)  2017-12-13T12:24:23.000   \n",
       "\n",
       "           ...                     officer_squad_desc officer_year_of_birth  \\\n",
       "0          ...                SOUTH PCT 3RD W - OCEAN                  1982   \n",
       "1          ...                  WEST PCT 3RD W - MARY                  1989   \n",
       "2          ...                  WEST PCT 3RD W - KING                  1982   \n",
       "3          ...               EAST PCT 2ND W - CHARLIE                  1972   \n",
       "4          ...            WEST PCT 2ND W - D/M RELIEF                  1985   \n",
       "\n",
       "  officer_years_of_experience precinct reported_date reported_time   sector  \\\n",
       "0                           8    NORTH    2016-09-09      22:34:00    UNION   \n",
       "1                           4     WEST    2017-12-12      21:51:00     MARY   \n",
       "2                           4     WEST    2017-12-12      23:14:00     KING   \n",
       "3                          17     EAST    2017-12-13      18:28:00  CHARLIE   \n",
       "4                           8     WEST    2017-12-13      13:42:00    DAVID   \n",
       "\n",
       "  subject_veteran_indicator template_id use_of_force_indicator  \n",
       "0                       Yes      193069                      N  \n",
       "1                   Unknown      356577                      N  \n",
       "2                   Unknown      356580                      N  \n",
       "3                        No      356757                      N  \n",
       "4                        No      356716                      N  \n",
       "\n",
       "[5 rows x 25 columns]"
      ]
     },
     "execution_count": 6,
     "metadata": {},
     "output_type": "execute_result"
    }
   ],
   "source": [
    "results_df.head()"
   ]
  },
  {
   "cell_type": "markdown",
   "metadata": {},
   "source": [
    "## Remove NaN and replace them."
   ]
  },
  {
   "cell_type": "code",
   "execution_count": 7,
   "metadata": {
    "collapsed": true
   },
   "outputs": [],
   "source": [
    "## [X] template_id                               number  Template ID\n",
    "## [X] reported_date                               text  Reported Date\n",
    "## [X] reported_time                               text  Reported Time\n",
    "## [X] occured_date_time             floating_timestamp  Occurred Date / Time\n",
    "## [X] call_type                                   text  Call Type\n",
    "## [X] initial_call_type                           text  Initial Call Type\n",
    "## [X] final_call_type                             text  Final Call Type\n",
    "## [X] disposition                                 text  Disposition\n",
    "## [X] use_of_force_indicator                      text  Use of Force Indicator\n",
    "## [X] subject_veteran_indicator                   text  Subject Veteran Indicator\n",
    "## [X] cit_officer_requested                       text  CIT Officer Requested\n",
    "## [X] cit_officer_dispatched                      text  CIT Officer Dispatched\n",
    "## [X] cit_officer_arrived                         text  CIT Officer Arrived\n",
    "## [X] officer_id                                  text  Officer ID\n",
    "## [X] officer_gender                              text  Officer Gender\n",
    "## [X] officer_race                                text  Officer Race\n",
    "## [X] officer_year_of_birth                       text  Officer Year of Birth\n",
    "## [X] officer_years_of_experience                 text  Officer Years of Experience\n",
    "## [X] cit_certified_indicator                     text  CIT Certified Indicator\n",
    "## [X] officer_bureau_desc                         text  Officer Bureau Desc\n",
    "## [X] officer_precinct_desc                       text  Officer Precinct Desc\n",
    "## [X] officer_squad_desc                          text  Officer Squad Desc\n",
    "## [X] precinct                                    text  Precinct\n",
    "## [X] sector                                      text  Sector\n",
    "## [X] beat                                        text  Beat"
   ]
  },
  {
   "cell_type": "code",
   "execution_count": 8,
   "metadata": {},
   "outputs": [
    {
     "name": "stdout",
     "output_type": "stream",
     "text": [
      "         beat\n",
      "count   41980\n",
      "unique     59\n",
      "top        K2\n",
      "freq     1543\n",
      "****************************************************************************************************\n",
      "Missing entries: True\n",
      "****************************************************************************************************\n",
      "Missing entries count: beat    563\n",
      "dtype: int64\n"
     ]
    }
   ],
   "source": [
    "print(results_df[['beat']].describe(include='all'))\n",
    "printstars(100)\n",
    "# print(\"Geographical beat count:\",results_df.groupby('beat').size().count())\n",
    "print(\"Missing entries:\",results_df[['beat']].isnull().values.any())\n",
    "printstars(100)\n",
    "print(\"Missing entries count:\",results_df[['beat']].isnull().sum())"
   ]
  },
  {
   "cell_type": "code",
   "execution_count": 9,
   "metadata": {},
   "outputs": [
    {
     "name": "stdout",
     "output_type": "stream",
     "text": [
      "       sector\n",
      "count   41941\n",
      "unique     17\n",
      "top      KING\n",
      "freq     4212\n",
      "****************************************************************************************************\n",
      "Missing sectors: True\n",
      "****************************************************************************************************\n",
      "Missing sectors count: sector    602\n",
      "dtype: int64\n"
     ]
    }
   ],
   "source": [
    "print(results_df[['sector']].describe(include='all'))\n",
    "printstars(100)\n",
    "# print(\"Number of unique sectors:\",results_df.groupby('sector').size().count())\n",
    "# printstars(50)\n",
    "# print(\"Sectors count:\",results_df.groupby('sector').size())\n",
    "# printstars(50)\n",
    "print(\"Missing sectors:\",results_df[['sector']].isnull().values.any())\n",
    "printstars(100)\n",
    "print(\"Missing sectors count:\",results_df[['sector']].isnull().sum())"
   ]
  },
  {
   "cell_type": "code",
   "execution_count": 10,
   "metadata": {},
   "outputs": [
    {
     "name": "stdout",
     "output_type": "stream",
     "text": [
      "       precinct\n",
      "count     41980\n",
      "unique        6\n",
      "top       NORTH\n",
      "freq      12380\n",
      "****************************************************************************************************\n",
      "Sectors count: precinct\n",
      "EAST          8612\n",
      "NORTH        12380\n",
      "SOUTH         5242\n",
      "SOUTHWEST     3682\n",
      "UNKNOWN         39\n",
      "WEST         12025\n",
      "dtype: int64\n",
      "****************************************************************************************************\n",
      "There are few UNKNOWN precincts.\n",
      "****************************************************************************************************\n",
      "Missing precincts: True\n",
      "****************************************************************************************************\n",
      "Missing precinct count: precinct    563\n",
      "dtype: int64\n"
     ]
    }
   ],
   "source": [
    "print(results_df[['precinct']].describe(include='all'))\n",
    "printstars(100)\n",
    "# print(\"Number of unique sectors:\",results_df.groupby('precinct').size().count())\n",
    "# printstars(100)\n",
    "print(\"Sectors count:\",results_df.groupby('precinct').size())\n",
    "printstars(100)\n",
    "print(\"There are few UNKNOWN precincts.\")\n",
    "printstars(100)\n",
    "print(\"Missing precincts:\",results_df[['precinct']].isnull().values.any())\n",
    "printstars(100)\n",
    "print(\"Missing precinct count:\",results_df[['precinct']].isnull().sum())"
   ]
  },
  {
   "cell_type": "code",
   "execution_count": 11,
   "metadata": {},
   "outputs": [
    {
     "name": "stdout",
     "output_type": "stream",
     "text": [
      "                     officer_squad_desc\n",
      "count                             42246\n",
      "unique                              145\n",
      "top     TRAINING - FIELD TRAINING SQUAD\n",
      "freq                               4178\n",
      "****************************************************************************************************\n",
      "Number of unique officer_squad_desc: 145\n",
      "****************************************************************************************************\n",
      "Missing officer_squad_desc: True\n",
      "****************************************************************************************************\n",
      "Missing officer_squad_desc count: officer_squad_desc    297\n",
      "dtype: int64\n"
     ]
    }
   ],
   "source": [
    "print(results_df[['officer_squad_desc']].describe(include='all'))\n",
    "printstars(100)\n",
    "print(\"Number of unique officer_squad_desc:\",results_df.groupby('officer_squad_desc').size().count())\n",
    "printstars(100)\n",
    "print(\"Missing officer_squad_desc:\",results_df[['officer_squad_desc']].isnull().values.any())\n",
    "printstars(100)\n",
    "print(\"Missing officer_squad_desc count:\",results_df[['officer_squad_desc']].isnull().sum())"
   ]
  },
  {
   "cell_type": "code",
   "execution_count": 12,
   "metadata": {},
   "outputs": [
    {
     "name": "stdout",
     "output_type": "stream",
     "text": [
      "       officer_precinct_desc\n",
      "count                  41299\n",
      "unique                    23\n",
      "top                 WEST PCT\n",
      "freq                   11158\n",
      "****************************************************************************************************\n",
      "Number of unique officer_precinct_desc: officer_precinct_desc\n",
      "APR - AUDIT, POLICY AND RESEARCH SECTION           4\n",
      "COLLABORATIVE POLICING SECTION                     7\n",
      "COMMUNICATIONS SECTION                             8\n",
      "COMMUNITY OUTREACH SECTION                         3\n",
      "COORDINATED CRIMINAL INVESTIGATIONS SECTION        6\n",
      "EAST PCT                                        7907\n",
      "FORCE INVESTIGATIONS SECTION                       1\n",
      "HIGH RISK VICTIMS SECTION                          2\n",
      "HUMAN RESOURCES SECTION                            6\n",
      "ICAC SECTION                                       1\n",
      "INTELLIGENCE AND TACTICAL ANALYSIS SECTION         5\n",
      "METROPOLITAN SECTION                              10\n",
      "NARCOTICS SECTION                                  4\n",
      "NORTH PCT                                      10694\n",
      "OPA INVESTIGATIONS SECTION                         5\n",
      "SOUTH PCT                                       4230\n",
      "SOUTHWEST PCT                                   2994\n",
      "SPECIAL VICTIM CRIMES SECTION                     32\n",
      "TRAFFIC SECTION                                   30\n",
      "TRAINING AND EDUCATION SECTION                  4185\n",
      "VIOLENT CRIMES SECTION                             6\n",
      "WEST PCT                                       11158\n",
      "ZOLD DATA DRIVEN POLICING SECTION                  1\n",
      "dtype: int64\n",
      "****************************************************************************************************\n",
      "Missing officer_precinct_desc: True\n",
      "****************************************************************************************************\n",
      "Missing officer_precinct_desc count: officer_precinct_desc    1244\n",
      "dtype: int64\n"
     ]
    }
   ],
   "source": [
    "print(results_df[['officer_precinct_desc']].describe(include='all'))\n",
    "printstars(100)\n",
    "print(\"Number of unique officer_precinct_desc:\",results_df.groupby('officer_precinct_desc').size())\n",
    "printstars(100)\n",
    "print(\"Missing officer_precinct_desc:\",results_df[['officer_precinct_desc']].isnull().values.any())\n",
    "printstars(100)\n",
    "print(\"Missing officer_precinct_desc count:\",results_df[['officer_precinct_desc']].isnull().sum())"
   ]
  },
  {
   "cell_type": "code",
   "execution_count": 13,
   "metadata": {},
   "outputs": [
    {
     "name": "stdout",
     "output_type": "stream",
     "text": [
      "       officer_bureau_desc\n",
      "count                42239\n",
      "unique                   6\n",
      "top      OPERATIONS BUREAU\n",
      "freq                 37939\n",
      "****************************************************************************************************\n",
      "Number of unique officer_bureau_desc: 6\n",
      "****************************************************************************************************\n",
      "Number of unique officer_bureau_desc: officer_bureau_desc\n",
      "COLLABORATIVE POLICING BUREAU                          9\n",
      "HOMELAND SECURITY AND SPECIAL OPERATIONS BUREAU       40\n",
      "INVESTIGATIONS BUREAU                                 56\n",
      "OPA - OFFICE OF POLICE ACCOUNTABILITY                  5\n",
      "OPERATIONS BUREAU                                  37939\n",
      "PROFESSIONAL STANDARDS BUREAU                       4190\n",
      "dtype: int64\n",
      "****************************************************************************************************\n",
      "Missing officer_bureau_desc: True\n",
      "****************************************************************************************************\n",
      "Missing officer_bureau_desc count: officer_bureau_desc    304\n",
      "dtype: int64\n"
     ]
    }
   ],
   "source": [
    "print(results_df[['officer_bureau_desc']].describe(include='all'))\n",
    "printstars(100)\n",
    "print(\"Number of unique officer_bureau_desc:\",results_df.groupby('officer_bureau_desc').size().count())\n",
    "printstars(100)\n",
    "print(\"Number of unique officer_bureau_desc:\",results_df.groupby('officer_bureau_desc').size())\n",
    "printstars(100)\n",
    "print(\"Missing officer_bureau_desc:\",results_df[['officer_bureau_desc']].isnull().values.any())\n",
    "printstars(100)\n",
    "print(\"Missing officer_bureau_desc count:\",results_df[['officer_bureau_desc']].isnull().sum())"
   ]
  },
  {
   "cell_type": "code",
   "execution_count": 14,
   "metadata": {},
   "outputs": [
    {
     "name": "stdout",
     "output_type": "stream",
     "text": [
      "       cit_certified_indicator\n",
      "count                    17802\n",
      "unique                       1\n",
      "top                          Y\n",
      "freq                     17802\n",
      "****************************************************************************************************\n",
      "Number of unique cit_certified_indicator: cit_certified_indicator\n",
      "Y    17802\n",
      "dtype: int64\n",
      "****************************************************************************************************\n",
      "Missing cit_certified_indicator: True\n",
      "****************************************************************************************************\n",
      "Missing cit_certified_indicator count: cit_certified_indicator    24741\n",
      "dtype: int64\n",
      "****************************************************************************************************\n",
      "Condsider remaining as False (i.e, Not certified.)\n"
     ]
    }
   ],
   "source": [
    "print(results_df[['cit_certified_indicator']].describe(include='all'))\n",
    "printstars(100)\n",
    "print(\"Number of unique cit_certified_indicator:\",results_df.groupby('cit_certified_indicator').size())\n",
    "printstars(100)\n",
    "print(\"Missing cit_certified_indicator:\",results_df[['cit_certified_indicator']].isnull().values.any())\n",
    "printstars(100)\n",
    "print(\"Missing cit_certified_indicator count:\",results_df[['cit_certified_indicator']].isnull().sum())\n",
    "printstars(100)\n",
    "print(\"Condsider remaining as False (i.e, Not certified.)\")"
   ]
  },
  {
   "cell_type": "code",
   "execution_count": 15,
   "metadata": {},
   "outputs": [
    {
     "data": {
      "text/plain": [
       "0    NaN\n",
       "1      Y\n",
       "2      Y\n",
       "3    NaN\n",
       "4    NaN\n",
       "Name: cit_certified_indicator, dtype: object"
      ]
     },
     "execution_count": 15,
     "metadata": {},
     "output_type": "execute_result"
    }
   ],
   "source": [
    "results_df.cit_certified_indicator.head()"
   ]
  },
  {
   "cell_type": "markdown",
   "metadata": {},
   "source": [
    "Replace NaN with N."
   ]
  },
  {
   "cell_type": "code",
   "execution_count": 16,
   "metadata": {
    "collapsed": true
   },
   "outputs": [],
   "source": [
    "results_df.cit_certified_indicator = results_df.cit_certified_indicator.fillna('N')"
   ]
  },
  {
   "cell_type": "code",
   "execution_count": 17,
   "metadata": {},
   "outputs": [
    {
     "name": "stdout",
     "output_type": "stream",
     "text": [
      "Missing cit_certified_indicator: False\n"
     ]
    }
   ],
   "source": [
    "print(\"Missing cit_certified_indicator:\",results_df[['cit_certified_indicator']].isnull().values.any())"
   ]
  },
  {
   "cell_type": "code",
   "execution_count": 18,
   "metadata": {},
   "outputs": [
    {
     "name": "stdout",
     "output_type": "stream",
     "text": [
      "       officer_years_of_experience\n",
      "count                        39627\n",
      "unique                          42\n",
      "top                              1\n",
      "freq                          7529\n",
      "****************************************************************************************************\n",
      "Number of unique officer_years_of_experience: 42\n",
      "****************************************************************************************************\n",
      "Missing officer_years_of_experience: True\n",
      "****************************************************************************************************\n",
      "Missing officer_years_of_experience count: officer_years_of_experience    2916\n",
      "dtype: int64\n",
      "****************************************************************************************************\n",
      "Remove invalid experiences.\n"
     ]
    }
   ],
   "source": [
    "print(results_df[['officer_years_of_experience']].describe(include='all'))\n",
    "printstars(100)\n",
    "print(\"Number of unique officer_years_of_experience:\",results_df.groupby('officer_years_of_experience').size().count())\n",
    "# printstars(100)\n",
    "# print(\"Number of unique officer_years_of_experience:\",results_df.groupby('officer_years_of_experience').size())\n",
    "printstars(100)\n",
    "print(\"Missing officer_years_of_experience:\",results_df[['officer_years_of_experience']].isnull().values.any())\n",
    "printstars(100)\n",
    "print(\"Missing officer_years_of_experience count:\",results_df[['officer_years_of_experience']].isnull().sum())\n",
    "printstars(100)\n",
    "print(\"Remove invalid experiences.\")"
   ]
  },
  {
   "cell_type": "code",
   "execution_count": 19,
   "metadata": {},
   "outputs": [
    {
     "name": "stdout",
     "output_type": "stream",
     "text": [
      "       officer_year_of_birth\n",
      "count                  42431\n",
      "unique                    49\n",
      "top                     1987\n",
      "freq                    2766\n",
      "****************************************************************************************************\n",
      "Number of unique officer_year_of_birth: 49\n",
      "****************************************************************************************************\n",
      "Missing officer_year_of_birth: True\n",
      "****************************************************************************************************\n",
      "Missing officer_year_of_birth count: officer_year_of_birth    112\n",
      "dtype: int64\n",
      "****************************************************************************************************\n",
      "Is year 1900 outlier ? Need to do some feature engineering to find the age of the officer.\n"
     ]
    }
   ],
   "source": [
    "print(results_df[['officer_year_of_birth']].describe(include='all'))\n",
    "printstars(100)\n",
    "print(\"Number of unique officer_year_of_birth:\",results_df.groupby('officer_year_of_birth').size().count())\n",
    "# printstars(100)\n",
    "# print(\"Number of unique officer_year_of_birth:\",results_df.groupby('officer_year_of_birth').size())\n",
    "printstars(100)\n",
    "print(\"Missing officer_year_of_birth:\",results_df[['officer_year_of_birth']].isnull().values.any())\n",
    "printstars(100)\n",
    "print(\"Missing officer_year_of_birth count:\",results_df[['officer_year_of_birth']].isnull().sum())\n",
    "printstars(100)\n",
    "print(\"Is year 1900 outlier ? Need to do some feature engineering to find the age of the officer.\")"
   ]
  },
  {
   "cell_type": "code",
   "execution_count": 20,
   "metadata": {},
   "outputs": [
    {
     "name": "stdout",
     "output_type": "stream",
     "text": [
      "       officer_race\n",
      "count         42543\n",
      "unique            9\n",
      "top           White\n",
      "freq          31428\n",
      "****************************************************************************************************\n",
      "Number of unique officer_race: 9\n",
      "****************************************************************************************************\n",
      "Number of unique officer_race: officer_race\n",
      "American Indian/Alaska Native      623\n",
      "Asian                             2269\n",
      "Black or African American         2294\n",
      "Hispanic or Latino                1978\n",
      "Nat Hawaiian/Oth Pac Islander      578\n",
      "Not Specified                      954\n",
      "Two or More Races                 2303\n",
      "Unknown                            116\n",
      "White                            31428\n",
      "dtype: int64\n",
      "****************************************************************************************************\n",
      "Missing officer_race: False\n",
      "****************************************************************************************************\n",
      "No missing records, Unknown officer rows exists.\n"
     ]
    }
   ],
   "source": [
    "print(results_df[['officer_race']].describe(include='all'))\n",
    "printstars(100)\n",
    "print(\"Number of unique officer_race:\",results_df.groupby('officer_race').size().count())\n",
    "printstars(100)\n",
    "print(\"Number of unique officer_race:\",results_df.groupby('officer_race').size())\n",
    "printstars(100)\n",
    "print(\"Missing officer_race:\",results_df[['officer_race']].isnull().values.any())\n",
    "printstars(100)\n",
    "print(\"No missing records, Unknown officer rows exists.\")"
   ]
  },
  {
   "cell_type": "code",
   "execution_count": 21,
   "metadata": {},
   "outputs": [
    {
     "name": "stdout",
     "output_type": "stream",
     "text": [
      "       officer_gender\n",
      "count           42543\n",
      "unique              3\n",
      "top                 M\n",
      "freq            36680\n",
      "****************************************************************************************************\n",
      "Number of unique officer_gender: 3\n",
      "****************************************************************************************************\n",
      "Number of unique officer_gender: officer_gender\n",
      "F     5779\n",
      "M    36680\n",
      "N       84\n",
      "dtype: int64\n",
      "****************************************************************************************************\n",
      "Missing officer_gender: False\n",
      "****************************************************************************************************\n",
      "No missing rows. Categorize N either to F or M, count is low for N\n",
      "****************************************************************************************************\n"
     ]
    }
   ],
   "source": [
    "print(results_df[['officer_gender']].describe(include='all'))\n",
    "printstars(100)\n",
    "print(\"Number of unique officer_gender:\",results_df.groupby('officer_gender').size().count())\n",
    "printstars(100)\n",
    "print(\"Number of unique officer_gender:\",results_df.groupby('officer_gender').size())\n",
    "printstars(100)\n",
    "print(\"Missing officer_gender:\",results_df[['officer_gender']].isnull().values.any())\n",
    "printstars(100)\n",
    "print(\"No missing rows. Categorize N either to F or M, count is low for N\")\n",
    "printstars(100)"
   ]
  },
  {
   "cell_type": "code",
   "execution_count": 22,
   "metadata": {},
   "outputs": [
    {
     "name": "stdout",
     "output_type": "stream",
     "text": [
      "       officer_id\n",
      "count       42543\n",
      "unique        973\n",
      "top          1735\n",
      "freq          751\n",
      "****************************************************************************************************\n",
      "Number of unique officer_id: 973\n",
      "****************************************************************************************************\n",
      "Missing officer_id: False\n",
      "****************************************************************************************************\n",
      "No Missing officer_ids. Remove invalid id's.\n",
      "****************************************************************************************************\n"
     ]
    }
   ],
   "source": [
    "print(results_df[['officer_id']].describe(include='all'))\n",
    "printstars(100)\n",
    "print(\"Number of unique officer_id:\",results_df.groupby('officer_id').size().count())\n",
    "# printstars(100)\n",
    "# print(\"Number of unique officer_id:\",results_df.groupby('officer_id').size())\n",
    "printstars(100)\n",
    "print(\"Missing officer_id:\",results_df[['officer_id']].isnull().values.any())\n",
    "printstars(100)\n",
    "print(\"No Missing officer_ids. Remove invalid id's.\")\n",
    "printstars(100)"
   ]
  },
  {
   "cell_type": "code",
   "execution_count": 23,
   "metadata": {},
   "outputs": [
    {
     "name": "stdout",
     "output_type": "stream",
     "text": [
      "       cit_officer_arrived\n",
      "count                42543\n",
      "unique                   2\n",
      "top                      Y\n",
      "freq                 33206\n",
      "****************************************************************************************************\n",
      "Number of unique cit_officer_arrived: cit_officer_arrived\n",
      "N     9337\n",
      "Y    33206\n",
      "dtype: int64\n",
      "****************************************************************************************************\n",
      "Missing cit_officer_arrived: False\n",
      "****************************************************************************************************\n",
      "No Missing data.\n"
     ]
    }
   ],
   "source": [
    "print(results_df[['cit_officer_arrived']].describe(include='all'))\n",
    "printstars(100)\n",
    "print(\"Number of unique cit_officer_arrived:\",results_df.groupby('cit_officer_arrived').size())\n",
    "printstars(100)\n",
    "print(\"Missing cit_officer_arrived:\",results_df[['cit_officer_arrived']].isnull().values.any())\n",
    "printstars(100)\n",
    "print(\"No Missing data.\")"
   ]
  },
  {
   "cell_type": "code",
   "execution_count": 24,
   "metadata": {},
   "outputs": [
    {
     "name": "stdout",
     "output_type": "stream",
     "text": [
      "       cit_officer_dispatched\n",
      "count                   42543\n",
      "unique                      2\n",
      "top                         N\n",
      "freq                    22310\n",
      "****************************************************************************************************\n",
      "Number of unique cit_officer_dispatched: cit_officer_dispatched\n",
      "N    22310\n",
      "Y    20233\n",
      "dtype: int64\n",
      "****************************************************************************************************\n",
      "Missing cit_officer_dispatched: False\n",
      "****************************************************************************************************\n",
      "No Missing data.\n"
     ]
    }
   ],
   "source": [
    "print(results_df[['cit_officer_dispatched']].describe(include='all'))\n",
    "printstars(100)\n",
    "print(\"Number of unique cit_officer_dispatched:\",results_df.groupby('cit_officer_dispatched').size())\n",
    "printstars(100)\n",
    "print(\"Missing cit_officer_dispatched:\",results_df[['cit_officer_dispatched']].isnull().values.any())\n",
    "printstars(100)\n",
    "print(\"No Missing data.\")"
   ]
  },
  {
   "cell_type": "code",
   "execution_count": 25,
   "metadata": {},
   "outputs": [
    {
     "name": "stdout",
     "output_type": "stream",
     "text": [
      "       cit_officer_requested\n",
      "count                  42543\n",
      "unique                     2\n",
      "top                        N\n",
      "freq                   38577\n",
      "****************************************************************************************************\n",
      "Number of unique cit_officer_requested: cit_officer_requested\n",
      "N    38577\n",
      "Y     3966\n",
      "dtype: int64\n",
      "****************************************************************************************************\n",
      "Missing cit_officer_requested: False\n",
      "****************************************************************************************************\n",
      "No Missing data.\n"
     ]
    }
   ],
   "source": [
    "print(results_df[['cit_officer_requested']].describe(include='all'))\n",
    "printstars(100)\n",
    "print(\"Number of unique cit_officer_requested:\",results_df.groupby('cit_officer_requested').size())\n",
    "printstars(100)\n",
    "print(\"Missing cit_officer_requested:\",results_df[['cit_officer_requested']].isnull().values.any())\n",
    "printstars(100)\n",
    "print(\"No Missing data.\")"
   ]
  },
  {
   "cell_type": "code",
   "execution_count": 26,
   "metadata": {},
   "outputs": [
    {
     "name": "stdout",
     "output_type": "stream",
     "text": [
      "       subject_veteran_indicator\n",
      "count                      42543\n",
      "unique                         4\n",
      "top                      Unknown\n",
      "freq                       23006\n",
      "****************************************************************************************************\n",
      "Number of unique subject_veteran_indicator: 4\n",
      "****************************************************************************************************\n",
      "Number of unique subject_veteran_indicator: subject_veteran_indicator\n",
      "-           4446\n",
      "No         13398\n",
      "Unknown    23006\n",
      "Yes         1693\n",
      "dtype: int64\n",
      "****************************************************************************************************\n",
      "Missing subject_veteran_indicator: False\n",
      "****************************************************************************************************\n",
      "No Missing rows, but '-' needs to be addressed and does 'unknown' signify anything.\n"
     ]
    }
   ],
   "source": [
    "print(results_df[['subject_veteran_indicator']].describe(include='all'))\n",
    "printstars(100)\n",
    "print(\"Number of unique subject_veteran_indicator:\",results_df.groupby('subject_veteran_indicator').size().count())\n",
    "printstars(100)\n",
    "print(\"Number of unique subject_veteran_indicator:\",results_df.groupby('subject_veteran_indicator').size())\n",
    "printstars(100)\n",
    "print(\"Missing subject_veteran_indicator:\",results_df[['subject_veteran_indicator']].isnull().values.any())\n",
    "printstars(100)\n",
    "print(\"No Missing rows, but '-' needs to be addressed and does 'unknown' signify anything.\")"
   ]
  },
  {
   "cell_type": "markdown",
   "metadata": {
    "collapsed": true
   },
   "source": [
    "Since unknown category has a large count, we will leave it as it's own category.\n",
    "\n",
    "And '-' will be considered as No."
   ]
  },
  {
   "cell_type": "code",
   "execution_count": 27,
   "metadata": {},
   "outputs": [
    {
     "name": "stdout",
     "output_type": "stream",
     "text": [
      "       use_of_force_indicator\n",
      "count                   42543\n",
      "unique                      2\n",
      "top                         N\n",
      "freq                    41856\n",
      "****************************************************************************************************\n",
      "Number of unique use_of_force_indicator: use_of_force_indicator\n",
      "N    41856\n",
      "Y      687\n",
      "dtype: int64\n",
      "****************************************************************************************************\n",
      "Missing use_of_force_indicator: False\n",
      "****************************************************************************************************\n",
      "No Missing data.\n"
     ]
    }
   ],
   "source": [
    "print(results_df[['use_of_force_indicator']].describe(include='all'))\n",
    "printstars(100)\n",
    "print(\"Number of unique use_of_force_indicator:\",results_df.groupby('use_of_force_indicator').size())\n",
    "printstars(100)\n",
    "print(\"Missing use_of_force_indicator:\",results_df[['use_of_force_indicator']].isnull().values.any())\n",
    "printstars(100)\n",
    "print(\"No Missing data.\")"
   ]
  },
  {
   "cell_type": "code",
   "execution_count": 28,
   "metadata": {},
   "outputs": [
    {
     "name": "stdout",
     "output_type": "stream",
     "text": [
      "                   disposition\n",
      "count                    41233\n",
      "unique                      14\n",
      "top     Emergent Detention/ITA\n",
      "freq                     11013\n",
      "****************************************************************************************************\n",
      "Number of unique disposition: 14\n",
      "****************************************************************************************************\n",
      "Number of unique disposition: disposition\n",
      "Chronic Complaint                                 2965\n",
      "Crisis Clinic                                      777\n",
      "DMHP Referral                                      736\n",
      "Drug/Alcohol Treatment Referral                    734\n",
      "Emergent Detention/ITA                           11013\n",
      "Geriatric Regional Assessment Team                 173\n",
      "Mental Health Agency or Case Manager Notified     1047\n",
      "Mobile Crisis Team                                2779\n",
      "No Action Possible or Necessary                   7327\n",
      "Resources Declined                                5758\n",
      "Shelter Transport                                  245\n",
      "Subject Arrested                                  3008\n",
      "Unable to Contact                                 1130\n",
      "Voluntary Committal                               3541\n",
      "dtype: int64\n",
      "****************************************************************************************************\n",
      "Missing disposition: True\n",
      "****************************************************************************************************\n",
      "Missing disposition count: disposition    1310\n",
      "dtype: int64\n",
      "****************************************************************************************************\n"
     ]
    }
   ],
   "source": [
    "print(results_df[['disposition']].describe(include='all'))\n",
    "printstars(100)\n",
    "print(\"Number of unique disposition:\",results_df.groupby('disposition').size().count())\n",
    "printstars(100)\n",
    "print(\"Number of unique disposition:\",results_df.groupby('disposition').size())\n",
    "printstars(100)\n",
    "print(\"Missing disposition:\",results_df[['disposition']].isnull().values.any())\n",
    "printstars(100)\n",
    "print(\"Missing disposition count:\",results_df[['disposition']].isnull().sum())\n",
    "printstars(100)"
   ]
  },
  {
   "cell_type": "code",
   "execution_count": 29,
   "metadata": {},
   "outputs": [
    {
     "name": "stdout",
     "output_type": "stream",
     "text": [
      "                     final_call_type\n",
      "count                          41980\n",
      "unique                           201\n",
      "top     --CRISIS COMPLAINT - GENERAL\n",
      "freq                           28424\n",
      "****************************************************************************************************\n",
      "Number of unique final_call_type: 201\n",
      "****************************************************************************************************\n",
      "Missing final_call_type: True\n",
      "****************************************************************************************************\n",
      "Missing final_call_type count: final_call_type    563\n",
      "dtype: int64\n"
     ]
    }
   ],
   "source": [
    "print(results_df[['final_call_type']].describe(include='all'))\n",
    "printstars(100)\n",
    "print(\"Number of unique final_call_type:\",results_df.groupby('final_call_type').size().count())\n",
    "printstars(100)\n",
    "print(\"Missing final_call_type:\",results_df[['final_call_type']].isnull().values.any())\n",
    "printstars(100)\n",
    "print(\"Missing final_call_type count:\",results_df[['final_call_type']].isnull().sum())"
   ]
  },
  {
   "cell_type": "code",
   "execution_count": 30,
   "metadata": {},
   "outputs": [
    {
     "name": "stdout",
     "output_type": "stream",
     "text": [
      "                                   initial_call_type\n",
      "count                                          41980\n",
      "unique                                           192\n",
      "top     SUICIDE - IP/JO SUICIDAL PERSON AND ATTEMPTS\n",
      "freq                                            7648\n",
      "****************************************************************************************************\n",
      "Number of unique initial_call_type: 192\n",
      "****************************************************************************************************\n",
      "Missing initial_call_type: True\n",
      "****************************************************************************************************\n",
      "Missing initial_call_type count: initial_call_type    563\n",
      "dtype: int64\n"
     ]
    }
   ],
   "source": [
    "print(results_df[['initial_call_type']].describe(include='all'))\n",
    "printstars(100)\n",
    "print(\"Number of unique initial_call_type:\",results_df.groupby('initial_call_type').size().count())\n",
    "printstars(100)\n",
    "print(\"Missing initial_call_type:\",results_df[['initial_call_type']].isnull().values.any())\n",
    "printstars(100)\n",
    "print(\"Missing initial_call_type count:\",results_df[['initial_call_type']].isnull().sum())"
   ]
  },
  {
   "cell_type": "code",
   "execution_count": 31,
   "metadata": {},
   "outputs": [
    {
     "name": "stdout",
     "output_type": "stream",
     "text": [
      "       call_type\n",
      "count      41980\n",
      "unique         7\n",
      "top          911\n",
      "freq       28932\n",
      "****************************************************************************************************\n",
      "Number of unique call_type: 7\n",
      "****************************************************************************************************\n",
      "Number of unique call_type: call_type\n",
      "911                              28932\n",
      "ALARM CALL (NOT POLICE ALARM)      218\n",
      "HISTORY CALL (RETRO)                 2\n",
      "IN PERSON COMPLAINT                  3\n",
      "ONVIEW                            4944\n",
      "PROACTIVE (OFFICER INITIATED)        1\n",
      "TELEPHONE OTHER, NOT 911          7880\n",
      "dtype: int64\n",
      "****************************************************************************************************\n",
      "Missing call_type: True\n",
      "****************************************************************************************************\n",
      "Missing call_type count: call_type    563\n",
      "dtype: int64\n"
     ]
    }
   ],
   "source": [
    "print(results_df[['call_type']].describe(include='all'))\n",
    "printstars(100)\n",
    "print(\"Number of unique call_type:\",results_df.groupby('call_type').size().count())\n",
    "printstars(100)\n",
    "print(\"Number of unique call_type:\",results_df.groupby('call_type').size())\n",
    "printstars(100)\n",
    "print(\"Missing call_type:\",results_df[['call_type']].isnull().values.any())\n",
    "printstars(100)\n",
    "print(\"Missing call_type count:\",results_df[['call_type']].isnull().sum())"
   ]
  },
  {
   "cell_type": "code",
   "execution_count": 32,
   "metadata": {},
   "outputs": [
    {
     "name": "stdout",
     "output_type": "stream",
     "text": [
      "       reported_time\n",
      "count          42543\n",
      "unique          1440\n",
      "top         19:01:00\n",
      "freq              64\n",
      "****************************************************************************************************\n",
      "Number of unique reported_time: 1440\n",
      "****************************************************************************************************\n",
      "Missing reported_time: False\n",
      "****************************************************************************************************\n",
      "No missing data.\n"
     ]
    }
   ],
   "source": [
    "print(results_df[['reported_time']].describe(include='all'))\n",
    "printstars(100)\n",
    "print(\"Number of unique reported_time:\",results_df.groupby('reported_time').size().count())\n",
    "printstars(100)\n",
    "print(\"Missing reported_time:\",results_df[['reported_time']].isnull().values.any())\n",
    "printstars(100)\n",
    "print(\"No missing data.\")"
   ]
  },
  {
   "cell_type": "code",
   "execution_count": 33,
   "metadata": {},
   "outputs": [
    {
     "name": "stdout",
     "output_type": "stream",
     "text": [
      "       reported_date\n",
      "count          42543\n",
      "unique          1259\n",
      "top       2016-06-06\n",
      "freq              67\n",
      "****************************************************************************************************\n",
      "Number of unique reported_date: 1259\n",
      "****************************************************************************************************\n",
      "Missing reported_date: False\n",
      "****************************************************************************************************\n",
      "No missing data.\n"
     ]
    }
   ],
   "source": [
    "print(results_df[['reported_date']].describe(include='all'))\n",
    "printstars(100)\n",
    "print(\"Number of unique reported_date:\",results_df.groupby('reported_date').size().count())\n",
    "printstars(100)\n",
    "print(\"Missing reported_date:\",results_df[['reported_date']].isnull().values.any())\n",
    "printstars(100)\n",
    "print(\"No missing data.\")"
   ]
  },
  {
   "cell_type": "code",
   "execution_count": 34,
   "metadata": {},
   "outputs": [
    {
     "name": "stdout",
     "output_type": "stream",
     "text": [
      "       template_id\n",
      "count        42543\n",
      "unique       34901\n",
      "top         290178\n",
      "freq             6\n",
      "****************************************************************************************************\n",
      "Number of unique template_id: 34901\n",
      "****************************************************************************************************\n",
      "Missing template_id: False\n",
      "****************************************************************************************************\n",
      "Missing template_id count: template_id    0\n",
      "dtype: int64\n",
      "****************************************************************************************************\n",
      "No missing data. Does this id add value ? And why are there duplicates ?\n"
     ]
    }
   ],
   "source": [
    "print(results_df[['template_id']].describe(include='all'))\n",
    "printstars(100)\n",
    "print(\"Number of unique template_id:\",results_df.groupby('template_id').size().count())\n",
    "printstars(100)\n",
    "print(\"Missing template_id:\",results_df[['template_id']].isnull().values.any())\n",
    "printstars(100)\n",
    "print(\"Missing template_id count:\",results_df[['template_id']].isnull().sum())\n",
    "printstars(100)\n",
    "print(\"No missing data. Does this id add value ? And why are there duplicates ?\")"
   ]
  },
  {
   "cell_type": "code",
   "execution_count": 35,
   "metadata": {},
   "outputs": [
    {
     "name": "stdout",
     "output_type": "stream",
     "text": [
      "              occured_date_time\n",
      "count                     41980\n",
      "unique                    33921\n",
      "top     2017-01-10T09:30:47.000\n",
      "freq                          7\n",
      "****************************************************************************************************\n",
      "Number of unique occured_date_time: 33921\n",
      "****************************************************************************************************\n",
      "Missing occured_date_time: True\n",
      "****************************************************************************************************\n",
      "Missing occured_date_time count: occured_date_time    563\n",
      "dtype: int64\n",
      "****************************************************************************************************\n",
      "Remove missing data.\n"
     ]
    }
   ],
   "source": [
    "print(results_df[['occured_date_time']].describe(include='all'))\n",
    "printstars(100)\n",
    "print(\"Number of unique occured_date_time:\",results_df.groupby('occured_date_time').size().count())\n",
    "printstars(100)\n",
    "print(\"Missing occured_date_time:\",results_df[['occured_date_time']].isnull().values.any())\n",
    "printstars(100)\n",
    "print(\"Missing occured_date_time count:\",results_df[['occured_date_time']].isnull().sum())\n",
    "printstars(100)\n",
    "print(\"Remove missing data.\")"
   ]
  },
  {
   "cell_type": "markdown",
   "metadata": {},
   "source": [
    "### Removing missing data."
   ]
  },
  {
   "cell_type": "markdown",
   "metadata": {},
   "source": [
    "Drop empty rows for these columns."
   ]
  },
  {
   "cell_type": "code",
   "execution_count": 36,
   "metadata": {
    "collapsed": true
   },
   "outputs": [],
   "source": [
    "results_df.dropna(subset=['beat','sector','precinct', 'officer_squad_desc', 'officer_precinct_desc', 'officer_bureau_desc'], inplace=True)"
   ]
  },
  {
   "cell_type": "code",
   "execution_count": 37,
   "metadata": {
    "collapsed": true
   },
   "outputs": [],
   "source": [
    "results_df.officer_years_of_experience = results_df.officer_years_of_experience.apply(pd.to_numeric, errors='coerce')"
   ]
  },
  {
   "cell_type": "markdown",
   "metadata": {},
   "source": [
    "Used median age to fill out the missing officer years of experience."
   ]
  },
  {
   "cell_type": "code",
   "execution_count": 38,
   "metadata": {
    "collapsed": true
   },
   "outputs": [],
   "source": [
    "results_df.officer_years_of_experience = results_df.officer_years_of_experience.fillna(results_df.officer_years_of_experience.median())"
   ]
  },
  {
   "cell_type": "markdown",
   "metadata": {},
   "source": [
    "There are a small portion of officer gender not mentioned, so treated N with F."
   ]
  },
  {
   "cell_type": "code",
   "execution_count": 39,
   "metadata": {
    "collapsed": true
   },
   "outputs": [],
   "source": [
    "results_df.officer_gender = results_df.officer_gender.replace(\"N\",\"F\")"
   ]
  },
  {
   "cell_type": "markdown",
   "metadata": {},
   "source": [
    "'-' is considered as No."
   ]
  },
  {
   "cell_type": "code",
   "execution_count": 40,
   "metadata": {
    "collapsed": true
   },
   "outputs": [],
   "source": [
    "results_df.subject_veteran_indicator = results_df.subject_veteran_indicator.replace(\"-\",\"No\")"
   ]
  },
  {
   "cell_type": "markdown",
   "metadata": {},
   "source": [
    "For empty Disposition, created a category of No Disposition info."
   ]
  },
  {
   "cell_type": "code",
   "execution_count": 41,
   "metadata": {
    "collapsed": true
   },
   "outputs": [],
   "source": [
    "results_df.disposition = results_df.disposition.fillna('No Disposition info')"
   ]
  },
  {
   "cell_type": "code",
   "execution_count": 42,
   "metadata": {},
   "outputs": [
    {
     "name": "stdout",
     "output_type": "stream",
     "text": [
      "Missing beat: False\n",
      "Missing call_type: False\n",
      "Missing cit_certified_indicator: False\n",
      "Missing cit_officer_arrived: False\n",
      "Missing cit_officer_dispatched: False\n",
      "Missing cit_officer_requested: False\n",
      "Missing disposition: False\n",
      "Missing final_call_type: False\n",
      "Missing initial_call_type: False\n",
      "Missing occured_date_time: False\n",
      "Missing officer_bureau_desc: False\n",
      "Missing officer_gender: False\n",
      "Missing officer_id: False\n",
      "Missing officer_precinct_desc: False\n",
      "Missing officer_race: False\n",
      "Missing officer_squad_desc: False\n",
      "Missing officer_year_of_birth: False\n",
      "Missing officer_years_of_experience: False\n",
      "Missing precinct: False\n",
      "Missing reported_date: False\n",
      "Missing reported_time: False\n",
      "Missing sector: False\n",
      "Missing subject_veteran_indicator: False\n",
      "Missing template_id: False\n",
      "Missing use_of_force_indicator: False\n"
     ]
    }
   ],
   "source": [
    "print(\"Missing beat:\",results_df[['beat']].isnull().values.any())\n",
    "print(\"Missing call_type:\",results_df[['call_type']].isnull().values.any())\n",
    "print(\"Missing cit_certified_indicator:\",results_df[['cit_certified_indicator']].isnull().values.any())\n",
    "print(\"Missing cit_officer_arrived:\",results_df[['cit_officer_arrived']].isnull().values.any())\n",
    "print(\"Missing cit_officer_dispatched:\",results_df[['cit_officer_dispatched']].isnull().values.any())\n",
    "print(\"Missing cit_officer_requested:\",results_df[['cit_officer_requested']].isnull().values.any())\n",
    "print(\"Missing disposition:\",results_df[['disposition']].isnull().values.any())\n",
    "print(\"Missing final_call_type:\",results_df[['final_call_type']].isnull().values.any())\n",
    "print(\"Missing initial_call_type:\",results_df[['initial_call_type']].isnull().values.any())\n",
    "print(\"Missing occured_date_time:\",results_df[['occured_date_time']].isnull().values.any())\n",
    "print(\"Missing officer_bureau_desc:\",results_df[['officer_bureau_desc']].isnull().values.any())\n",
    "print(\"Missing officer_gender:\",results_df[['officer_gender']].isnull().values.any())\n",
    "print(\"Missing officer_id:\",results_df[['officer_id']].isnull().values.any())\n",
    "print(\"Missing officer_precinct_desc:\",results_df[['officer_precinct_desc']].isnull().values.any())\n",
    "print(\"Missing officer_race:\",results_df[['officer_race']].isnull().values.any())\n",
    "print(\"Missing officer_squad_desc:\",results_df[['officer_squad_desc']].isnull().values.any())\n",
    "print(\"Missing officer_year_of_birth:\",results_df[['officer_year_of_birth']].isnull().values.any())\n",
    "print(\"Missing officer_years_of_experience:\",results_df[['officer_years_of_experience']].isnull().values.any())\n",
    "print(\"Missing precinct:\",results_df[['precinct']].isnull().values.any())\n",
    "print(\"Missing reported_date:\",results_df[['reported_date']].isnull().values.any())\n",
    "print(\"Missing reported_time:\",results_df[['reported_time']].isnull().values.any())\n",
    "print(\"Missing sector:\",results_df[['sector']].isnull().values.any())\n",
    "print(\"Missing subject_veteran_indicator:\",results_df[['subject_veteran_indicator']].isnull().values.any())\n",
    "print(\"Missing template_id:\",results_df[['template_id']].isnull().values.any())\n",
    "print(\"Missing use_of_force_indicator:\",results_df[['use_of_force_indicator']].isnull().values.any())"
   ]
  },
  {
   "cell_type": "code",
   "execution_count": 43,
   "metadata": {},
   "outputs": [
    {
     "name": "stdout",
     "output_type": "stream",
     "text": [
      "<class 'pandas.core.frame.DataFrame'>\n",
      "Int64Index: 40714 entries, 0 to 42542\n",
      "Data columns (total 25 columns):\n",
      "beat                           40714 non-null object\n",
      "call_type                      40714 non-null object\n",
      "cit_certified_indicator        40714 non-null object\n",
      "cit_officer_arrived            40714 non-null object\n",
      "cit_officer_dispatched         40714 non-null object\n",
      "cit_officer_requested          40714 non-null object\n",
      "disposition                    40714 non-null object\n",
      "final_call_type                40714 non-null object\n",
      "initial_call_type              40714 non-null object\n",
      "occured_date_time              40714 non-null object\n",
      "officer_bureau_desc            40714 non-null object\n",
      "officer_gender                 40714 non-null object\n",
      "officer_id                     40714 non-null object\n",
      "officer_precinct_desc          40714 non-null object\n",
      "officer_race                   40714 non-null object\n",
      "officer_squad_desc             40714 non-null object\n",
      "officer_year_of_birth          40714 non-null object\n",
      "officer_years_of_experience    40714 non-null float64\n",
      "precinct                       40714 non-null object\n",
      "reported_date                  40714 non-null object\n",
      "reported_time                  40714 non-null object\n",
      "sector                         40714 non-null object\n",
      "subject_veteran_indicator      40714 non-null object\n",
      "template_id                    40714 non-null object\n",
      "use_of_force_indicator         40714 non-null object\n",
      "dtypes: float64(1), object(24)\n",
      "memory usage: 8.1+ MB\n"
     ]
    }
   ],
   "source": [
    "results_df.info()"
   ]
  },
  {
   "cell_type": "markdown",
   "metadata": {},
   "source": [
    "### No missing or non-null data (all of the columns have same number of rows).\n",
    "## Convert into their respective data types."
   ]
  },
  {
   "cell_type": "code",
   "execution_count": 44,
   "metadata": {
    "collapsed": true
   },
   "outputs": [],
   "source": [
    "# template_id is number format.\n",
    "results_df.template_id = pd.to_numeric(results_df.template_id)"
   ]
  },
  {
   "cell_type": "code",
   "execution_count": 45,
   "metadata": {
    "collapsed": true
   },
   "outputs": [],
   "source": [
    "results_df.officer_id = pd.to_numeric(results_df.officer_id)"
   ]
  },
  {
   "cell_type": "code",
   "execution_count": 46,
   "metadata": {
    "collapsed": true
   },
   "outputs": [],
   "source": [
    "results_df.officer_year_of_birth = results_df.officer_year_of_birth.apply(pd.to_numeric, errors='coerce')"
   ]
  },
  {
   "cell_type": "markdown",
   "metadata": {},
   "source": [
    "Since reported date and reported time are seperated, combined into one field and named reported_date_time."
   ]
  },
  {
   "cell_type": "code",
   "execution_count": 47,
   "metadata": {},
   "outputs": [
    {
     "name": "stdout",
     "output_type": "stream",
     "text": [
      "Missing reported_date_time: False\n"
     ]
    }
   ],
   "source": [
    "results_df['reported_date_time'] = results_df['reported_date'] + ' ' + results_df['reported_time']\n",
    "results_df.reported_date_time = pd.to_datetime(results_df['reported_date_time'], errors='coerce')\n",
    "\n",
    "# validate if any NaT exists.\n",
    "print(\"Missing reported_date_time:\",results_df[['reported_date_time']].isnull().values.any())"
   ]
  },
  {
   "cell_type": "code",
   "execution_count": 48,
   "metadata": {},
   "outputs": [],
   "source": [
    "results_df.drop(['reported_date', 'reported_time'],inplace=True, axis=1)"
   ]
  },
  {
   "cell_type": "code",
   "execution_count": 49,
   "metadata": {
    "collapsed": true
   },
   "outputs": [],
   "source": [
    "results_df.occured_date_time = pd.to_datetime(results_df['occured_date_time'])"
   ]
  },
  {
   "cell_type": "code",
   "execution_count": 50,
   "metadata": {
    "collapsed": true
   },
   "outputs": [],
   "source": [
    "# results_df.subject_veteran_indicator = results_df.subject_veteran_indicator.map({'Yes':1,'No':0, 'Unknown':2})"
   ]
  },
  {
   "cell_type": "code",
   "execution_count": 51,
   "metadata": {},
   "outputs": [
    {
     "name": "stdout",
     "output_type": "stream",
     "text": [
      "<class 'pandas.core.frame.DataFrame'>\n",
      "Int64Index: 40714 entries, 0 to 42542\n",
      "Data columns (total 24 columns):\n",
      "beat                           40714 non-null object\n",
      "call_type                      40714 non-null object\n",
      "cit_certified_indicator        40714 non-null object\n",
      "cit_officer_arrived            40714 non-null object\n",
      "cit_officer_dispatched         40714 non-null object\n",
      "cit_officer_requested          40714 non-null object\n",
      "disposition                    40714 non-null object\n",
      "final_call_type                40714 non-null object\n",
      "initial_call_type              40714 non-null object\n",
      "occured_date_time              40714 non-null datetime64[ns]\n",
      "officer_bureau_desc            40714 non-null object\n",
      "officer_gender                 40714 non-null object\n",
      "officer_id                     40714 non-null int64\n",
      "officer_precinct_desc          40714 non-null object\n",
      "officer_race                   40714 non-null object\n",
      "officer_squad_desc             40714 non-null object\n",
      "officer_year_of_birth          40714 non-null int64\n",
      "officer_years_of_experience    40714 non-null float64\n",
      "precinct                       40714 non-null object\n",
      "sector                         40714 non-null object\n",
      "subject_veteran_indicator      40714 non-null object\n",
      "template_id                    40714 non-null int64\n",
      "use_of_force_indicator         40714 non-null object\n",
      "reported_date_time             40714 non-null datetime64[ns]\n",
      "dtypes: datetime64[ns](2), float64(1), int64(3), object(18)\n",
      "memory usage: 7.8+ MB\n"
     ]
    }
   ],
   "source": [
    "results_df.info()"
   ]
  },
  {
   "cell_type": "code",
   "execution_count": 52,
   "metadata": {},
   "outputs": [
    {
     "data": {
      "text/html": [
       "<div>\n",
       "<style>\n",
       "    .dataframe thead tr:only-child th {\n",
       "        text-align: right;\n",
       "    }\n",
       "\n",
       "    .dataframe thead th {\n",
       "        text-align: left;\n",
       "    }\n",
       "\n",
       "    .dataframe tbody tr th {\n",
       "        vertical-align: top;\n",
       "    }\n",
       "</style>\n",
       "<table border=\"1\" class=\"dataframe\">\n",
       "  <thead>\n",
       "    <tr style=\"text-align: right;\">\n",
       "      <th></th>\n",
       "      <th>beat</th>\n",
       "      <th>call_type</th>\n",
       "      <th>cit_certified_indicator</th>\n",
       "      <th>cit_officer_arrived</th>\n",
       "      <th>cit_officer_dispatched</th>\n",
       "      <th>cit_officer_requested</th>\n",
       "      <th>disposition</th>\n",
       "      <th>final_call_type</th>\n",
       "      <th>initial_call_type</th>\n",
       "      <th>occured_date_time</th>\n",
       "      <th>...</th>\n",
       "      <th>officer_race</th>\n",
       "      <th>officer_squad_desc</th>\n",
       "      <th>officer_year_of_birth</th>\n",
       "      <th>officer_years_of_experience</th>\n",
       "      <th>precinct</th>\n",
       "      <th>sector</th>\n",
       "      <th>subject_veteran_indicator</th>\n",
       "      <th>template_id</th>\n",
       "      <th>use_of_force_indicator</th>\n",
       "      <th>reported_date_time</th>\n",
       "    </tr>\n",
       "  </thead>\n",
       "  <tbody>\n",
       "    <tr>\n",
       "      <th>count</th>\n",
       "      <td>40714</td>\n",
       "      <td>40714</td>\n",
       "      <td>40714</td>\n",
       "      <td>40714</td>\n",
       "      <td>40714</td>\n",
       "      <td>40714</td>\n",
       "      <td>40714</td>\n",
       "      <td>40714</td>\n",
       "      <td>40714</td>\n",
       "      <td>40714</td>\n",
       "      <td>...</td>\n",
       "      <td>40714</td>\n",
       "      <td>40714</td>\n",
       "      <td>40714.000000</td>\n",
       "      <td>40714.000000</td>\n",
       "      <td>40714</td>\n",
       "      <td>40714</td>\n",
       "      <td>40714</td>\n",
       "      <td>40714.000000</td>\n",
       "      <td>40714</td>\n",
       "      <td>40714</td>\n",
       "    </tr>\n",
       "    <tr>\n",
       "      <th>unique</th>\n",
       "      <td>51</td>\n",
       "      <td>7</td>\n",
       "      <td>2</td>\n",
       "      <td>2</td>\n",
       "      <td>2</td>\n",
       "      <td>2</td>\n",
       "      <td>15</td>\n",
       "      <td>200</td>\n",
       "      <td>188</td>\n",
       "      <td>33097</td>\n",
       "      <td>...</td>\n",
       "      <td>8</td>\n",
       "      <td>139</td>\n",
       "      <td>NaN</td>\n",
       "      <td>NaN</td>\n",
       "      <td>5</td>\n",
       "      <td>17</td>\n",
       "      <td>3</td>\n",
       "      <td>NaN</td>\n",
       "      <td>2</td>\n",
       "      <td>33159</td>\n",
       "    </tr>\n",
       "    <tr>\n",
       "      <th>top</th>\n",
       "      <td>K2</td>\n",
       "      <td>911</td>\n",
       "      <td>N</td>\n",
       "      <td>Y</td>\n",
       "      <td>N</td>\n",
       "      <td>N</td>\n",
       "      <td>Emergent Detention/ITA</td>\n",
       "      <td>--CRISIS COMPLAINT - GENERAL</td>\n",
       "      <td>SUICIDE - IP/JO SUICIDAL PERSON AND ATTEMPTS</td>\n",
       "      <td>2016-07-12 03:03:18</td>\n",
       "      <td>...</td>\n",
       "      <td>White</td>\n",
       "      <td>TRAINING - FIELD TRAINING SQUAD</td>\n",
       "      <td>NaN</td>\n",
       "      <td>NaN</td>\n",
       "      <td>NORTH</td>\n",
       "      <td>KING</td>\n",
       "      <td>Unknown</td>\n",
       "      <td>NaN</td>\n",
       "      <td>N</td>\n",
       "      <td>2015-12-26 00:54:00</td>\n",
       "    </tr>\n",
       "    <tr>\n",
       "      <th>freq</th>\n",
       "      <td>1466</td>\n",
       "      <td>28344</td>\n",
       "      <td>23961</td>\n",
       "      <td>31727</td>\n",
       "      <td>21127</td>\n",
       "      <td>36982</td>\n",
       "      <td>10787</td>\n",
       "      <td>27807</td>\n",
       "      <td>7521</td>\n",
       "      <td>6</td>\n",
       "      <td>...</td>\n",
       "      <td>30175</td>\n",
       "      <td>4129</td>\n",
       "      <td>NaN</td>\n",
       "      <td>NaN</td>\n",
       "      <td>12064</td>\n",
       "      <td>4061</td>\n",
       "      <td>21998</td>\n",
       "      <td>NaN</td>\n",
       "      <td>40045</td>\n",
       "      <td>6</td>\n",
       "    </tr>\n",
       "    <tr>\n",
       "      <th>first</th>\n",
       "      <td>NaN</td>\n",
       "      <td>NaN</td>\n",
       "      <td>NaN</td>\n",
       "      <td>NaN</td>\n",
       "      <td>NaN</td>\n",
       "      <td>NaN</td>\n",
       "      <td>NaN</td>\n",
       "      <td>NaN</td>\n",
       "      <td>NaN</td>\n",
       "      <td>2012-04-23 14:45:57</td>\n",
       "      <td>...</td>\n",
       "      <td>NaN</td>\n",
       "      <td>NaN</td>\n",
       "      <td>NaN</td>\n",
       "      <td>NaN</td>\n",
       "      <td>NaN</td>\n",
       "      <td>NaN</td>\n",
       "      <td>NaN</td>\n",
       "      <td>NaN</td>\n",
       "      <td>NaN</td>\n",
       "      <td>2015-05-15 15:57:00</td>\n",
       "    </tr>\n",
       "    <tr>\n",
       "      <th>last</th>\n",
       "      <td>NaN</td>\n",
       "      <td>NaN</td>\n",
       "      <td>NaN</td>\n",
       "      <td>NaN</td>\n",
       "      <td>NaN</td>\n",
       "      <td>NaN</td>\n",
       "      <td>NaN</td>\n",
       "      <td>NaN</td>\n",
       "      <td>NaN</td>\n",
       "      <td>2018-10-23 17:30:53</td>\n",
       "      <td>...</td>\n",
       "      <td>NaN</td>\n",
       "      <td>NaN</td>\n",
       "      <td>NaN</td>\n",
       "      <td>NaN</td>\n",
       "      <td>NaN</td>\n",
       "      <td>NaN</td>\n",
       "      <td>NaN</td>\n",
       "      <td>NaN</td>\n",
       "      <td>NaN</td>\n",
       "      <td>2018-10-23 20:25:00</td>\n",
       "    </tr>\n",
       "    <tr>\n",
       "      <th>mean</th>\n",
       "      <td>NaN</td>\n",
       "      <td>NaN</td>\n",
       "      <td>NaN</td>\n",
       "      <td>NaN</td>\n",
       "      <td>NaN</td>\n",
       "      <td>NaN</td>\n",
       "      <td>NaN</td>\n",
       "      <td>NaN</td>\n",
       "      <td>NaN</td>\n",
       "      <td>NaN</td>\n",
       "      <td>...</td>\n",
       "      <td>NaN</td>\n",
       "      <td>NaN</td>\n",
       "      <td>1980.301960</td>\n",
       "      <td>6.882522</td>\n",
       "      <td>NaN</td>\n",
       "      <td>NaN</td>\n",
       "      <td>NaN</td>\n",
       "      <td>261008.434028</td>\n",
       "      <td>NaN</td>\n",
       "      <td>NaN</td>\n",
       "    </tr>\n",
       "    <tr>\n",
       "      <th>std</th>\n",
       "      <td>NaN</td>\n",
       "      <td>NaN</td>\n",
       "      <td>NaN</td>\n",
       "      <td>NaN</td>\n",
       "      <td>NaN</td>\n",
       "      <td>NaN</td>\n",
       "      <td>NaN</td>\n",
       "      <td>NaN</td>\n",
       "      <td>NaN</td>\n",
       "      <td>NaN</td>\n",
       "      <td>...</td>\n",
       "      <td>NaN</td>\n",
       "      <td>NaN</td>\n",
       "      <td>9.618383</td>\n",
       "      <td>8.059269</td>\n",
       "      <td>NaN</td>\n",
       "      <td>NaN</td>\n",
       "      <td>NaN</td>\n",
       "      <td>132967.183346</td>\n",
       "      <td>NaN</td>\n",
       "      <td>NaN</td>\n",
       "    </tr>\n",
       "    <tr>\n",
       "      <th>min</th>\n",
       "      <td>NaN</td>\n",
       "      <td>NaN</td>\n",
       "      <td>NaN</td>\n",
       "      <td>NaN</td>\n",
       "      <td>NaN</td>\n",
       "      <td>NaN</td>\n",
       "      <td>NaN</td>\n",
       "      <td>NaN</td>\n",
       "      <td>NaN</td>\n",
       "      <td>NaN</td>\n",
       "      <td>...</td>\n",
       "      <td>NaN</td>\n",
       "      <td>NaN</td>\n",
       "      <td>1946.000000</td>\n",
       "      <td>0.000000</td>\n",
       "      <td>NaN</td>\n",
       "      <td>NaN</td>\n",
       "      <td>NaN</td>\n",
       "      <td>43469.000000</td>\n",
       "      <td>NaN</td>\n",
       "      <td>NaN</td>\n",
       "    </tr>\n",
       "    <tr>\n",
       "      <th>25%</th>\n",
       "      <td>NaN</td>\n",
       "      <td>NaN</td>\n",
       "      <td>NaN</td>\n",
       "      <td>NaN</td>\n",
       "      <td>NaN</td>\n",
       "      <td>NaN</td>\n",
       "      <td>NaN</td>\n",
       "      <td>NaN</td>\n",
       "      <td>NaN</td>\n",
       "      <td>NaN</td>\n",
       "      <td>...</td>\n",
       "      <td>NaN</td>\n",
       "      <td>NaN</td>\n",
       "      <td>1973.000000</td>\n",
       "      <td>1.000000</td>\n",
       "      <td>NaN</td>\n",
       "      <td>NaN</td>\n",
       "      <td>NaN</td>\n",
       "      <td>145049.250000</td>\n",
       "      <td>NaN</td>\n",
       "      <td>NaN</td>\n",
       "    </tr>\n",
       "    <tr>\n",
       "      <th>50%</th>\n",
       "      <td>NaN</td>\n",
       "      <td>NaN</td>\n",
       "      <td>NaN</td>\n",
       "      <td>NaN</td>\n",
       "      <td>NaN</td>\n",
       "      <td>NaN</td>\n",
       "      <td>NaN</td>\n",
       "      <td>NaN</td>\n",
       "      <td>NaN</td>\n",
       "      <td>NaN</td>\n",
       "      <td>...</td>\n",
       "      <td>NaN</td>\n",
       "      <td>NaN</td>\n",
       "      <td>1983.000000</td>\n",
       "      <td>3.000000</td>\n",
       "      <td>NaN</td>\n",
       "      <td>NaN</td>\n",
       "      <td>NaN</td>\n",
       "      <td>251136.000000</td>\n",
       "      <td>NaN</td>\n",
       "      <td>NaN</td>\n",
       "    </tr>\n",
       "    <tr>\n",
       "      <th>75%</th>\n",
       "      <td>NaN</td>\n",
       "      <td>NaN</td>\n",
       "      <td>NaN</td>\n",
       "      <td>NaN</td>\n",
       "      <td>NaN</td>\n",
       "      <td>NaN</td>\n",
       "      <td>NaN</td>\n",
       "      <td>NaN</td>\n",
       "      <td>NaN</td>\n",
       "      <td>NaN</td>\n",
       "      <td>...</td>\n",
       "      <td>NaN</td>\n",
       "      <td>NaN</td>\n",
       "      <td>1988.000000</td>\n",
       "      <td>9.000000</td>\n",
       "      <td>NaN</td>\n",
       "      <td>NaN</td>\n",
       "      <td>NaN</td>\n",
       "      <td>387125.250000</td>\n",
       "      <td>NaN</td>\n",
       "      <td>NaN</td>\n",
       "    </tr>\n",
       "    <tr>\n",
       "      <th>max</th>\n",
       "      <td>NaN</td>\n",
       "      <td>NaN</td>\n",
       "      <td>NaN</td>\n",
       "      <td>NaN</td>\n",
       "      <td>NaN</td>\n",
       "      <td>NaN</td>\n",
       "      <td>NaN</td>\n",
       "      <td>NaN</td>\n",
       "      <td>NaN</td>\n",
       "      <td>NaN</td>\n",
       "      <td>...</td>\n",
       "      <td>NaN</td>\n",
       "      <td>NaN</td>\n",
       "      <td>1996.000000</td>\n",
       "      <td>42.000000</td>\n",
       "      <td>NaN</td>\n",
       "      <td>NaN</td>\n",
       "      <td>NaN</td>\n",
       "      <td>494878.000000</td>\n",
       "      <td>NaN</td>\n",
       "      <td>NaN</td>\n",
       "    </tr>\n",
       "  </tbody>\n",
       "</table>\n",
       "<p>13 rows × 24 columns</p>\n",
       "</div>"
      ],
      "text/plain": [
       "         beat call_type cit_certified_indicator cit_officer_arrived  \\\n",
       "count   40714     40714                   40714               40714   \n",
       "unique     51         7                       2                   2   \n",
       "top        K2       911                       N                   Y   \n",
       "freq     1466     28344                   23961               31727   \n",
       "first     NaN       NaN                     NaN                 NaN   \n",
       "last      NaN       NaN                     NaN                 NaN   \n",
       "mean      NaN       NaN                     NaN                 NaN   \n",
       "std       NaN       NaN                     NaN                 NaN   \n",
       "min       NaN       NaN                     NaN                 NaN   \n",
       "25%       NaN       NaN                     NaN                 NaN   \n",
       "50%       NaN       NaN                     NaN                 NaN   \n",
       "75%       NaN       NaN                     NaN                 NaN   \n",
       "max       NaN       NaN                     NaN                 NaN   \n",
       "\n",
       "       cit_officer_dispatched cit_officer_requested             disposition  \\\n",
       "count                   40714                 40714                   40714   \n",
       "unique                      2                     2                      15   \n",
       "top                         N                     N  Emergent Detention/ITA   \n",
       "freq                    21127                 36982                   10787   \n",
       "first                     NaN                   NaN                     NaN   \n",
       "last                      NaN                   NaN                     NaN   \n",
       "mean                      NaN                   NaN                     NaN   \n",
       "std                       NaN                   NaN                     NaN   \n",
       "min                       NaN                   NaN                     NaN   \n",
       "25%                       NaN                   NaN                     NaN   \n",
       "50%                       NaN                   NaN                     NaN   \n",
       "75%                       NaN                   NaN                     NaN   \n",
       "max                       NaN                   NaN                     NaN   \n",
       "\n",
       "                     final_call_type  \\\n",
       "count                          40714   \n",
       "unique                           200   \n",
       "top     --CRISIS COMPLAINT - GENERAL   \n",
       "freq                           27807   \n",
       "first                            NaN   \n",
       "last                             NaN   \n",
       "mean                             NaN   \n",
       "std                              NaN   \n",
       "min                              NaN   \n",
       "25%                              NaN   \n",
       "50%                              NaN   \n",
       "75%                              NaN   \n",
       "max                              NaN   \n",
       "\n",
       "                                   initial_call_type    occured_date_time  \\\n",
       "count                                          40714                40714   \n",
       "unique                                           188                33097   \n",
       "top     SUICIDE - IP/JO SUICIDAL PERSON AND ATTEMPTS  2016-07-12 03:03:18   \n",
       "freq                                            7521                    6   \n",
       "first                                            NaN  2012-04-23 14:45:57   \n",
       "last                                             NaN  2018-10-23 17:30:53   \n",
       "mean                                             NaN                  NaN   \n",
       "std                                              NaN                  NaN   \n",
       "min                                              NaN                  NaN   \n",
       "25%                                              NaN                  NaN   \n",
       "50%                                              NaN                  NaN   \n",
       "75%                                              NaN                  NaN   \n",
       "max                                              NaN                  NaN   \n",
       "\n",
       "               ...          officer_race               officer_squad_desc  \\\n",
       "count          ...                 40714                            40714   \n",
       "unique         ...                     8                              139   \n",
       "top            ...                 White  TRAINING - FIELD TRAINING SQUAD   \n",
       "freq           ...                 30175                             4129   \n",
       "first          ...                   NaN                              NaN   \n",
       "last           ...                   NaN                              NaN   \n",
       "mean           ...                   NaN                              NaN   \n",
       "std            ...                   NaN                              NaN   \n",
       "min            ...                   NaN                              NaN   \n",
       "25%            ...                   NaN                              NaN   \n",
       "50%            ...                   NaN                              NaN   \n",
       "75%            ...                   NaN                              NaN   \n",
       "max            ...                   NaN                              NaN   \n",
       "\n",
       "        officer_year_of_birth officer_years_of_experience precinct sector  \\\n",
       "count            40714.000000                40714.000000    40714  40714   \n",
       "unique                    NaN                         NaN        5     17   \n",
       "top                       NaN                         NaN    NORTH   KING   \n",
       "freq                      NaN                         NaN    12064   4061   \n",
       "first                     NaN                         NaN      NaN    NaN   \n",
       "last                      NaN                         NaN      NaN    NaN   \n",
       "mean              1980.301960                    6.882522      NaN    NaN   \n",
       "std                  9.618383                    8.059269      NaN    NaN   \n",
       "min               1946.000000                    0.000000      NaN    NaN   \n",
       "25%               1973.000000                    1.000000      NaN    NaN   \n",
       "50%               1983.000000                    3.000000      NaN    NaN   \n",
       "75%               1988.000000                    9.000000      NaN    NaN   \n",
       "max               1996.000000                   42.000000      NaN    NaN   \n",
       "\n",
       "        subject_veteran_indicator    template_id use_of_force_indicator  \\\n",
       "count                       40714   40714.000000                  40714   \n",
       "unique                          3            NaN                      2   \n",
       "top                       Unknown            NaN                      N   \n",
       "freq                        21998            NaN                  40045   \n",
       "first                         NaN            NaN                    NaN   \n",
       "last                          NaN            NaN                    NaN   \n",
       "mean                          NaN  261008.434028                    NaN   \n",
       "std                           NaN  132967.183346                    NaN   \n",
       "min                           NaN   43469.000000                    NaN   \n",
       "25%                           NaN  145049.250000                    NaN   \n",
       "50%                           NaN  251136.000000                    NaN   \n",
       "75%                           NaN  387125.250000                    NaN   \n",
       "max                           NaN  494878.000000                    NaN   \n",
       "\n",
       "         reported_date_time  \n",
       "count                 40714  \n",
       "unique                33159  \n",
       "top     2015-12-26 00:54:00  \n",
       "freq                      6  \n",
       "first   2015-05-15 15:57:00  \n",
       "last    2018-10-23 20:25:00  \n",
       "mean                    NaN  \n",
       "std                     NaN  \n",
       "min                     NaN  \n",
       "25%                     NaN  \n",
       "50%                     NaN  \n",
       "75%                     NaN  \n",
       "max                     NaN  \n",
       "\n",
       "[13 rows x 24 columns]"
      ]
     },
     "execution_count": 52,
     "metadata": {},
     "output_type": "execute_result"
    }
   ],
   "source": [
    "results_df.describe(include='all')"
   ]
  },
  {
   "cell_type": "code",
   "execution_count": 53,
   "metadata": {
    "collapsed": true
   },
   "outputs": [],
   "source": [
    "with open('../Data/Crisis_data_cleaned.txt', 'wb') as fp:\n",
    "    pickle.dump(results_df, fp)"
   ]
  }
 ],
 "metadata": {
  "kernelspec": {
   "display_name": "Python 3",
   "language": "python",
   "name": "python3"
  },
  "language_info": {
   "codemirror_mode": {
    "name": "ipython",
    "version": 3
   },
   "file_extension": ".py",
   "mimetype": "text/x-python",
   "name": "python",
   "nbconvert_exporter": "python",
   "pygments_lexer": "ipython3",
   "version": "3.6.3"
  }
 },
 "nbformat": 4,
 "nbformat_minor": 2
}
